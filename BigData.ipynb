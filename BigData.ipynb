{
  "nbformat": 4,
  "nbformat_minor": 0,
  "metadata": {
    "colab": {
      "name": "BigData.ipynb",
      "provenance": [],
      "collapsed_sections": [],
      "toc_visible": true
    },
    "kernelspec": {
      "name": "python3",
      "display_name": "Python 3"
    },
    "language_info": {
      "name": "python"
    }
  },
  "cells": [
    {
      "cell_type": "markdown",
      "source": [
        "# Downloads and Installations"
      ],
      "metadata": {
        "id": "VPp393_R8655"
      }
    },
    {
      "cell_type": "code",
      "execution_count": null,
      "metadata": {
        "colab": {
          "base_uri": "https://localhost:8080/"
        },
        "id": "s-iEXK6-jLJ5",
        "outputId": "0b091bf7-cebc-4f88-fca7-7b311cdbfd1f"
      },
      "outputs": [
        {
          "output_type": "stream",
          "name": "stdout",
          "text": [
            "openjdk version \"11.0.15\" 2022-04-19\n",
            "OpenJDK Runtime Environment (build 11.0.15+10-Ubuntu-0ubuntu0.18.04.1)\n",
            "OpenJDK 64-Bit Server VM (build 11.0.15+10-Ubuntu-0ubuntu0.18.04.1, mixed mode, sharing)\n"
          ]
        }
      ],
      "source": [
        "!java -version"
      ]
    },
    {
      "cell_type": "markdown",
      "source": [
        "Setting Java 8 Environment"
      ],
      "metadata": {
        "id": "KXh68cExjhY7"
      }
    },
    {
      "cell_type": "code",
      "source": [
        "!sudo update-alternatives --config java"
      ],
      "metadata": {
        "colab": {
          "base_uri": "https://localhost:8080/"
        },
        "id": "8cQGS7dMjtnD",
        "outputId": "dd67c432-bf62-4e41-adea-80a158a5b5b9"
      },
      "execution_count": null,
      "outputs": [
        {
          "output_type": "stream",
          "name": "stdout",
          "text": [
            "There are 2 choices for the alternative java (providing /usr/bin/java).\n",
            "\n",
            "  Selection    Path                                            Priority   Status\n",
            "------------------------------------------------------------\n",
            "* 0            /usr/lib/jvm/java-11-openjdk-amd64/bin/java      1111      auto mode\n",
            "  1            /usr/lib/jvm/java-11-openjdk-amd64/bin/java      1111      manual mode\n",
            "  2            /usr/lib/jvm/java-8-openjdk-amd64/jre/bin/java   1081      manual mode\n",
            "\n",
            "Press <enter> to keep the current choice[*], or type selection number: ^C\n"
          ]
        }
      ]
    },
    {
      "cell_type": "markdown",
      "source": [
        "Installing and Extracting Spark"
      ],
      "metadata": {
        "id": "UTby5Fn_k3iX"
      }
    },
    {
      "cell_type": "code",
      "source": [
        "!apt-get install openjdk-8-jdk-headless -qq > /dev/null"
      ],
      "metadata": {
        "id": "EoVNQHxZk6FV"
      },
      "execution_count": null,
      "outputs": []
    },
    {
      "cell_type": "code",
      "source": [
        "!wget -q https://archive.apache.org/dist/spark/spark-3.0.0/spark-3.0.0-bin-hadoop3.2.tgz\n",
        "\n"
      ],
      "metadata": {
        "id": "6b1g_IDYk_0I"
      },
      "execution_count": null,
      "outputs": []
    },
    {
      "cell_type": "code",
      "source": [
        "!tar xf spark-3.0.0-bin-hadoop3.2.tgz"
      ],
      "metadata": {
        "id": "CN2j1eXGlCSx"
      },
      "execution_count": null,
      "outputs": []
    },
    {
      "cell_type": "code",
      "source": [
        "!pip install -q findspark"
      ],
      "metadata": {
        "id": "WSFyzbTBlgZ7"
      },
      "execution_count": null,
      "outputs": []
    },
    {
      "cell_type": "code",
      "source": [
        "import os\n",
        "os.environ[\"JAVA_HOME\"] = \"/usr/lib/jvm/java-8-openjdk-amd64\"\n",
        "os.environ[\"SPARK_HOME\"] = \"/content/spark-3.0.0-bin-hadoop3.2\"\n"
      ],
      "metadata": {
        "id": "Ccqlg_pMloOg"
      },
      "execution_count": null,
      "outputs": []
    },
    {
      "cell_type": "markdown",
      "source": [
        "## Starting a Spark Session"
      ],
      "metadata": {
        "id": "wXT89pl9lyzN"
      }
    },
    {
      "cell_type": "code",
      "source": [
        "import findspark\n",
        "findspark.init()\n",
        "from pyspark.sql import SparkSession\n",
        "spark = SparkSession.builder.master(\"local[*]\").getOrCreate()\n",
        "import pandas as pd "
      ],
      "metadata": {
        "id": "MJklQrsFl0qG"
      },
      "execution_count": null,
      "outputs": []
    },
    {
      "cell_type": "markdown",
      "source": [
        "Stopping spark session"
      ],
      "metadata": {
        "id": "Lby6t2pemjc5"
      }
    },
    {
      "cell_type": "code",
      "source": [
        "spark.stop()"
      ],
      "metadata": {
        "id": "R6LeG3jkmIb_"
      },
      "execution_count": null,
      "outputs": []
    },
    {
      "cell_type": "markdown",
      "source": [
        "Installing PySpark"
      ],
      "metadata": {
        "id": "Zu_2KoHxmLXp"
      }
    },
    {
      "cell_type": "code",
      "source": [
        "!pip install pyspark"
      ],
      "metadata": {
        "id": "9WN_lfnbmOJT",
        "colab": {
          "base_uri": "https://localhost:8080/",
          "height": 365
        },
        "outputId": "edbedda9-e72d-4a6b-80d3-39f6b8e57fab"
      },
      "execution_count": null,
      "outputs": [
        {
          "output_type": "stream",
          "name": "stdout",
          "text": [
            "Looking in indexes: https://pypi.org/simple, https://us-python.pkg.dev/colab-wheels/public/simple/\n",
            "Collecting pyspark\n",
            "  Downloading pyspark-3.2.1.tar.gz (281.4 MB)\n",
            "\u001b[K     |████████████████████████████████| 281.4 MB 34 kB/s \n",
            "\u001b[?25hCollecting py4j==0.10.9.3\n",
            "  Downloading py4j-0.10.9.3-py2.py3-none-any.whl (198 kB)\n",
            "\u001b[K     |████████████████████████████████| 198 kB 55.2 MB/s \n",
            "\u001b[?25hBuilding wheels for collected packages: pyspark\n",
            "  Building wheel for pyspark (setup.py) ... \u001b[?25l\u001b[?25hdone\n",
            "  Created wheel for pyspark: filename=pyspark-3.2.1-py2.py3-none-any.whl size=281853642 sha256=59476bad8d6138d03a3142bad1de6a6d961c8f168ff50013eaa237bccdf2eeda\n",
            "  Stored in directory: /root/.cache/pip/wheels/9f/f5/07/7cd8017084dce4e93e84e92efd1e1d5334db05f2e83bcef74f\n",
            "Successfully built pyspark\n",
            "Installing collected packages: py4j, pyspark\n",
            "Successfully installed py4j-0.10.9.3 pyspark-3.2.1\n"
          ]
        },
        {
          "output_type": "display_data",
          "data": {
            "application/vnd.colab-display-data+json": {
              "pip_warning": {
                "packages": [
                  "py4j",
                  "pyspark"
                ]
              }
            }
          },
          "metadata": {}
        }
      ]
    },
    {
      "cell_type": "markdown",
      "source": [
        "# Creating Spark Job"
      ],
      "metadata": {
        "id": "CLJdFF7QcjKp"
      }
    },
    {
      "cell_type": "code",
      "source": [
        "import pyspark"
      ],
      "metadata": {
        "id": "yvbO_1SCcoDP"
      },
      "execution_count": null,
      "outputs": []
    },
    {
      "cell_type": "code",
      "source": [
        "from pyspark import SparkConf\n",
        "from pyspark import SparkContext\n"
      ],
      "metadata": {
        "id": "pi43yUHrcsEe"
      },
      "execution_count": null,
      "outputs": []
    },
    {
      "cell_type": "markdown",
      "source": [
        "# BIG DATA SOLUTION"
      ],
      "metadata": {
        "id": "-uULIaMYvf1-"
      }
    },
    {
      "cell_type": "markdown",
      "source": [
        "Uploading a csv file to the colab environment"
      ],
      "metadata": {
        "id": "JSjRFms62jy7"
      }
    },
    {
      "cell_type": "code",
      "source": [
        "from google.colab import files\n",
        "uploaded = files.upload()"
      ],
      "metadata": {
        "colab": {
          "resources": {
            "http://localhost:8080/nbextensions/google.colab/files.js": {
              "data": "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",
              "ok": true,
              "headers": [
                [
                  "content-type",
                  "application/javascript"
                ]
              ],
              "status": 200,
              "status_text": ""
            }
          },
          "base_uri": "https://localhost:8080/",
          "height": 74
        },
        "id": "kGRgS1-XvlEd",
        "outputId": "18aaeae9-83cd-47a1-ff00-dee5153f7096"
      },
      "execution_count": null,
      "outputs": [
        {
          "output_type": "display_data",
          "data": {
            "text/plain": [
              "<IPython.core.display.HTML object>"
            ],
            "text/html": [
              "\n",
              "     <input type=\"file\" id=\"files-bf72e408-b3ec-4d5d-ba3c-c8c8771e7d6c\" name=\"files[]\" multiple disabled\n",
              "        style=\"border:none\" />\n",
              "     <output id=\"result-bf72e408-b3ec-4d5d-ba3c-c8c8771e7d6c\">\n",
              "      Upload widget is only available when the cell has been executed in the\n",
              "      current browser session. Please rerun this cell to enable.\n",
              "      </output>\n",
              "      <script src=\"/nbextensions/google.colab/files.js\"></script> "
            ]
          },
          "metadata": {}
        },
        {
          "output_type": "stream",
          "name": "stdout",
          "text": [
            "Saving tracks.csv to tracks.csv\n"
          ]
        }
      ]
    },
    {
      "cell_type": "markdown",
      "source": [
        "..................."
      ],
      "metadata": {
        "id": "xN4zR_aHN9W5"
      }
    },
    {
      "cell_type": "markdown",
      "source": [
        "Reading csv file and and convert into a custom made dataframe."
      ],
      "metadata": {
        "id": "OpusXPgkNklw"
      }
    },
    {
      "cell_type": "code",
      "source": [
        "from pyspark.sql.types import *\n",
        "from pyspark.sql.functions import *\n",
        "schema = StructType([\n",
        "      StructField(\"Id\",StringType(),True), \n",
        "      StructField(\"Name\",StringType(),True), \n",
        "      StructField(\"Popularity\",IntegerType(),True), \n",
        "      StructField(\"Duration_ms\",IntegerType(),True), \n",
        "      StructField(\"Explicit\",IntegerType(),True), \n",
        "      StructField(\"Artists\",StringType(),True), \n",
        "      StructField(\"ArtistsId\",StringType(),True), \n",
        "      StructField(\"ReleaseDate\",DateType(),True), \n",
        "      StructField(\"Danceability\",FloatType(),True), \n",
        "      StructField(\"Energy\",FloatType(),True), \n",
        "      StructField(\"Key\",IntegerType(),True), \n",
        "      StructField(\"Loudness\",FloatType(),True), \n",
        "      StructField(\"Mode\",IntegerType(),True), \n",
        "      StructField(\"Speechiness\",FloatType(),True), \n",
        "      StructField(\"Acousticness\",FloatType(),True), \n",
        "      StructField(\"Instrumentalness\",FloatType(),True), \n",
        "      StructField(\"Liveness\",FloatType(),True), \n",
        "      StructField(\"Valence\",FloatType(),True), \n",
        "      StructField(\"Tempo\",FloatType(),True), \n",
        "      StructField(\"TimeSignature\",FloatType(),True), \n",
        "])\n",
        "\n",
        "trackFrame = spark.read.format(\"csv\") \\\n",
        "    .option(\"header\", True) \\\n",
        "    .schema(schema) \\\n",
        "    .load(\"tracks.csv\")\n",
        "\n",
        "#a = dsc.mapInPandas()\n",
        "trackFrame.show()"
      ],
      "metadata": {
        "colab": {
          "base_uri": "https://localhost:8080/"
        },
        "id": "ZL3OX-oWNybr",
        "outputId": "5eb41412-ba58-40cd-ab1d-fa2b84063b96"
      },
      "execution_count": null,
      "outputs": [
        {
          "output_type": "stream",
          "name": "stdout",
          "text": [
            "+--------------------+--------------------+----------+-----------+--------+-------------------+--------------------+-----------+------------+------+---+--------+----+-----------+------------+----------------+--------+-------+-------+-------------+\n",
            "|                  Id|                Name|Popularity|Duration_ms|Explicit|            Artists|           ArtistsId|ReleaseDate|Danceability|Energy|Key|Loudness|Mode|Speechiness|Acousticness|Instrumentalness|Liveness|Valence|  Tempo|TimeSignature|\n",
            "+--------------------+--------------------+----------+-----------+--------+-------------------+--------------------+-----------+------------+------+---+--------+----+-----------+------------+----------------+--------+-------+-------+-------------+\n",
            "|35iwgR4jXetI318WE...|               Carve|         6|     126903|       0|            ['Uli']|['45tIt06XoI0Iio4...| 1922-02-22|       0.645| 0.445|  0| -13.338|   1|      0.451|       0.674|           0.744|   0.151|  0.127|104.851|          3.0|\n",
            "|021ht4sdgPcrDgSk7...|Capítulo 2.16 - B...|         0|      98200|       0|['Fernando Pessoa']|['14jtPCOoNZwquk5...| 1922-06-01|       0.695| 0.263|  0| -22.136|   1|      0.957|       0.797|             0.0|   0.148|  0.655|102.009|          1.0|\n",
            "|07A5yehtSnoedViJA...|Vivo para Querert...|         0|     181640|       0|['Ignacio Corsini']|['5LiOoJbxVSAMkBS...| 1922-03-21|       0.434| 0.177|  1|  -21.18|   1|     0.0512|       0.994|          0.0218|   0.212|  0.457|130.418|          5.0|\n",
            "|08FmqUhxtyLTn6pAh...|El Prisionero - R...|         0|     176907|       0|['Ignacio Corsini']|['5LiOoJbxVSAMkBS...| 1922-03-21|       0.321|0.0946|  7| -27.961|   1|     0.0504|       0.995|           0.918|   0.104|  0.397| 169.98|          3.0|\n",
            "|08y9GfoqCWfOGsKdw...| Lady of the Evening|         0|     163080|       0|    ['Dick Haymes']|['3BiJGZsyX9sJchT...| 1922-01-01|       0.402| 0.158|  3|   -16.9|   0|      0.039|       0.989|            0.13|   0.311|  0.196| 103.22|          4.0|\n",
            "|0BRXJHRNGQ3W4v9fr...|           Ave Maria|         0|     178933|       0|    ['Dick Haymes']|['3BiJGZsyX9sJchT...| 1922-01-01|       0.227| 0.261|  5| -12.343|   1|     0.0382|       0.994|           0.247|  0.0977| 0.0539|118.891|          4.0|\n",
            "|0Dd9ImXtAtGwsmsAD...|      La Butte Rouge|         0|     134467|       0|  ['Francis Marty']|['2nuMRGzeJ5jJEKl...| 1922-01-01|        0.51| 0.355|  4| -12.833|   1|      0.124|       0.965|             0.0|   0.155|  0.727| 85.754|          5.0|\n",
            "|0IA0Hju8CAgYfV1hw...|             La Java|         0|     161427|       0|    ['Mistinguett']|['4AxgXfD7ISvJSTO...| 1922-01-01|       0.563| 0.184|  4| -13.757|   1|     0.0512|       0.993|         1.55E-5|   0.325|  0.654|133.088|          3.0|\n",
            "|0IgI1UCz84pYeVetn...|  Old Fashioned Girl|         0|     310073|       0|    ['Greg Fieler']|['5nWlsH5RDgFuRAi...| 1922-01-01|       0.488| 0.475|  0| -16.222|   0|     0.0399|        0.62|         0.00645|   0.107|  0.544|139.952|          4.0|\n",
            "|0JV4iqw2lSKJaHBQZ...|Martín Fierro - R...|         0|     181173|       0|['Ignacio Corsini']|['5LiOoJbxVSAMkBS...| 1922-03-29|       0.548|0.0391|  6| -23.228|   1|      0.153|       0.996|           0.933|   0.148|  0.612| 75.595|          3.0|\n",
            "|0OYGe21oScKJfanLy...|Capítulo 2.8 - Ba...|         0|      99100|       0|['Fernando Pessoa']|['14jtPCOoNZwquk5...| 1922-06-01|       0.676| 0.235| 11| -22.447|   0|       0.96|       0.794|             0.0|    0.21|  0.724| 96.777|          3.0|\n",
            "|0PE42H6tslQuyMMiG...|Capítulo 2.25 - B...|         0|     132700|       0|['Fernando Pessoa']|['14jtPCOoNZwquk5...| 1922-06-01|        0.75| 0.229|  2| -22.077|   1|      0.955|       0.578|             0.0|   0.314|  0.531|102.629|          3.0|\n",
            "|0PH9AACae1f957JAa...|            Lazy Boi|         0|     157333|       0|            ['Uli']|['45tIt06XoI0Iio4...| 1922-02-22|       0.298|  0.46|  1| -18.645|   1|      0.453|       0.521|           0.856|   0.436|  0.402| 87.921|          4.0|\n",
            "|0QiT0Oo5QdLXdFw6R...|Tu Verras Montmartre|         1|     186800|       0|   ['Lucien Boyer']|['4mSouLpNSEY1d7O...| 1922-01-01|       0.703|  0.28|  0|  -15.39|   1|      0.174|       0.995|         6.84E-5|   0.163|  0.897|127.531|          4.0|\n",
            "|0TWsNj5iSvbMTtbED...|Elle Prend L'boul...|         0|     172027|       0|    ['Félix Mayol']|['7DIlOK9L8d0IQ7X...| 1922-01-01|       0.709| 0.289|  2| -14.978|   1|       0.18|       0.967|             0.0|   0.119|   0.84|107.515|          4.0|\n",
            "|0cC9CYjLRIzwchQ42...|Capítulo 1.23 - B...|         0|      96600|       0|['Fernando Pessoa']|['14jtPCOoNZwquk5...| 1922-06-01|       0.687| 0.198|  4| -24.264|   0|      0.962|       0.754|             0.0|   0.197|  0.478| 78.453|          1.0|\n",
            "|0eb1PfHxT6HnXvvdU...|Capítulo 1.18 - B...|         0|     103200|       0|['Fernando Pessoa']|['14jtPCOoNZwquk5...| 1922-06-01|         0.8| 0.171|  8| -24.384|   1|      0.953|        0.67|             0.0|   0.123|  0.693| 59.613|          3.0|\n",
            "|0grXU6GKVNCVMJbse...|Capítulo 1.10 - B...|         0|      95800|       0|['Fernando Pessoa']|['14jtPCOoNZwquk5...| 1922-06-01|         0.7| 0.208|  2| -23.874|   1|      0.956|       0.691|             0.0|   0.441|  0.613| 85.739|          1.0|\n",
            "|0kCB1bDVBC8gWCFcn...|  Ca C'est Une Chose|         0|     188000|       0| ['Victor Boucher']|['7vVR02JJYvsEAEP...| 1922-01-01|       0.352| 0.334|  5| -13.038|   1|     0.0594|       0.996|         0.00746|    0.36|  0.414| 76.403|          4.0|\n",
            "|0l3BQsVJ7F76wlN5Q...|El Vendaval - Rem...|         0|     153533|       0|['Ignacio Corsini']|['5LiOoJbxVSAMkBS...| 1922-03-21|        0.37| 0.372|  2| -17.138|   1|     0.0865|       0.985|         6.81E-4|   0.929|  0.753|159.669|          4.0|\n",
            "+--------------------+--------------------+----------+-----------+--------+-------------------+--------------------+-----------+------------+------+---+--------+----+-----------+------------+----------------+--------+-------+-------+-------------+\n",
            "only showing top 20 rows\n",
            "\n"
          ]
        }
      ]
    },
    {
      "cell_type": "markdown",
      "source": [
        "##Handling 'null' values\n"
      ],
      "metadata": {
        "id": "as6J1PHMG1o4"
      }
    },
    {
      "cell_type": "markdown",
      "source": [
        "Here, all tracks names that has \"null values\" are shown."
      ],
      "metadata": {
        "id": "FlJgDF0hRCMs"
      }
    },
    {
      "cell_type": "code",
      "source": [
        "trackFrame.filter(col(\"Name\").isNull()).show()"
      ],
      "metadata": {
        "colab": {
          "base_uri": "https://localhost:8080/"
        },
        "id": "18x5-a0dQX__",
        "outputId": "1ccf528b-c395-4c4f-bfe8-76ba358589e6"
      },
      "execution_count": null,
      "outputs": [
        {
          "output_type": "stream",
          "name": "stdout",
          "text": [
            "+--------------------+----+----------+-----------+--------+-------+--------------------+-----------+------------+------+---+--------+----+-----------+------------+----------------+--------+-------+-------+-------------+\n",
            "|                  Id|Name|Popularity|Duration_ms|Explicit|Artists|           ArtistsId|ReleaseDate|Danceability|Energy|Key|Loudness|Mode|Speechiness|Acousticness|Instrumentalness|Liveness|Valence|  Tempo|TimeSignature|\n",
            "+--------------------+----+----------+-----------+--------+-------+--------------------+-----------+------------+------+---+--------+----+-----------+------------+----------------+--------+-------+-------+-------------+\n",
            "|4iH7negBYMfj2z0wD...|null|        28|     264973|       0|   ['']|['0LyfQWJT6nXafLP...| 1994-01-01|       0.512| 0.578|  0|  -12.28|   0|     0.0299|      0.0433|          6.4E-5|   0.516|  0.692|156.465|          1.0|\n",
            "|04d5kbLvSAIBt3pGc...|null|         0|     184293|       0|   ['']|['0LyfQWJT6nXafLP...| 1922-04-01|       0.426| 0.285| 11|  -11.97|   1|     0.0466|       0.995|           0.264|   0.293|  0.583|135.661|          4.0|\n",
            "|05tRkgyxVdwMePGqO...|null|         0|     191587|       0|   ['']|['0LyfQWJT6nXafLP...| 1922-04-01|       0.344| 0.186|  0| -13.495|   1|     0.0745|       0.995|             0.0|   0.115|   0.29| 79.591|          1.0|\n",
            "|0YAMRgAQH6tkTh4sW...|null|         0|     191573|       0|   ['']|['0LyfQWJT6nXafLP...| 1922-04-01|       0.316| 0.257|  3| -13.611|   0|     0.0549|       0.995|           0.769|   0.519|  0.529| 68.682|          3.0|\n",
            "|1K6MQQxmFpPb66Zna...|null|         0|     167602|       0|   ['']|['0LyfQWJT6nXafLP...| 1922-04-01|       0.558| 0.283|  1| -12.847|   1|     0.0646|       0.996|             0.0|   0.453|  0.608| 70.379|          4.0|\n",
            "|2DPL9XgEjygqmZvqe...|null|         0|     179907|       0|   ['']|['0LyfQWJT6nXafLP...| 1922-04-01|       0.441| 0.146|  3| -12.692|   0|      0.078|       0.995|           0.585|   0.172|  0.515| 67.431|          4.0|\n",
            "|2DyOPZlmzeX1ksoU7...|null|         0|     193881|       0|   ['']|['0LyfQWJT6nXafLP...| 1922-04-01|       0.287| 0.276|  8| -16.278|   1|     0.0471|       0.994|          0.0306|   0.349|  0.512| 67.967|          3.0|\n",
            "|2JREI5Qumxm8x6mRd...|null|         0|     190133|       0|   ['']|['0LyfQWJT6nXafLP...| 1922-04-01|       0.503| 0.214|  7| -12.805|   1|     0.0569|       0.995|           0.822|   0.334|  0.618|131.087|          3.0|\n",
            "|2qCKXFgTvAN2blxHa...|null|         0|     185813|       0|   ['']|['0LyfQWJT6nXafLP...| 1922-04-01|       0.468| 0.186| 10| -10.957|   1|     0.0384|       0.994|           0.405|   0.175|  0.305|109.822|          4.0|\n",
            "|2tnhxeCYTtU6nbfxg...|null|         0|     196400|       0|   ['']|['0LyfQWJT6nXafLP...| 1922-04-01|       0.379| 0.152|  4| -12.927|   0|      0.043|       0.996|           0.682|   0.257|  0.369|130.298|          3.0|\n",
            "|36jQl2JlDmIkq1kNw...|null|         0|     193320|       0|   ['']|['0LyfQWJT6nXafLP...| 1922-04-01|       0.425|  0.27|  0|  -9.244|   1|     0.0386|       0.993|             0.0|   0.256|  0.103| 64.723|          3.0|\n",
            "|3fwntrVRIJqcplOi4...|null|         0|     184587|       0|   ['']|['0LyfQWJT6nXafLP...| 1922-04-01|       0.458| 0.234| 11|  -8.429|   0|     0.0565|       0.989|             0.0|   0.395|  0.345| 73.519|          4.0|\n",
            "|3xyhIXEznrvuWvEza...|null|         0|     196320|       0|   ['']|['0LyfQWJT6nXafLP...| 1922-04-01|       0.315| 0.313|  3| -13.114|   1|     0.0499|       0.994|           0.949|    0.23|  0.328|135.798|          3.0|\n",
            "|5D7HzxyOeGt46T0Vf...|null|         0|     186973|       0|   ['']|['0LyfQWJT6nXafLP...| 1922-04-01|       0.491| 0.135|  0| -13.963|   1|     0.0787|       0.996|           0.131|   0.122|  0.531| 74.894|          5.0|\n",
            "|5Wjlz5WSaTuiDo2Vo...|null|         0|     186093|       0|   ['']|['0LyfQWJT6nXafLP...| 1922-04-01|       0.365| 0.196|  8| -12.543|   1|     0.0557|       0.995|         1.47E-5|   0.365|  0.314| 68.255|          4.0|\n",
            "|5vdTZkEtEc7MIeG5n...|null|         0|     196120|       0|   ['']|['0LyfQWJT6nXafLP...| 1922-04-01|       0.336| 0.256| 10| -10.744|   0|     0.0645|       0.995|             0.0|   0.237|  0.249| 78.685|          3.0|\n",
            "|6Y0iAAmcQ4cy5y3qn...|null|         0|     196147|       0|   ['']|['0LyfQWJT6nXafLP...| 1922-04-01|       0.378| 0.384|  3| -11.829|   1|     0.0723|       0.994|         1.85E-5|   0.438|  0.583|123.221|          4.0|\n",
            "|6iYs4Z3f6bf8i4AhS...|null|         0|     177842|       0|   ['']|['0LyfQWJT6nXafLP...| 1922-04-01|       0.633| 0.405|  4|  -8.762|   1|      0.046|       0.981|             0.0|   0.514|  0.657| 76.162|          4.0|\n",
            "|7r26LzTNdjmD3InNN...|null|         0|     198360|       0|   ['']|['0LyfQWJT6nXafLP...| 1922-04-01|         0.3| 0.267|  6| -11.885|   1|     0.0438|       0.994|             0.3|   0.426|  0.282|128.322|          3.0|\n",
            "|0L0eWbZwNwgvZ8ps3...|null|         0|     178000|       0|   ['']|['0LyfQWJT6nXafLP...| 1934-04-01|       0.373|0.0545|  1|  -16.07|   1|     0.0378|       0.996|           0.939|   0.154|  0.393|133.102|          3.0|\n",
            "+--------------------+----+----------+-----------+--------+-------+--------------------+-----------+------------+------+---+--------+----+-----------+------------+----------------+--------+-------+-------+-------------+\n",
            "only showing top 20 rows\n",
            "\n"
          ]
        }
      ]
    },
    {
      "cell_type": "code",
      "source": [
        "trackFrame.filter(col(\"Danceability\").isNull()).show()"
      ],
      "metadata": {
        "id": "xn87dbVZSJ3I",
        "colab": {
          "base_uri": "https://localhost:8080/"
        },
        "outputId": "96e8e6c0-2908-4417-bfa0-0b1db6a18612"
      },
      "execution_count": null,
      "outputs": [
        {
          "output_type": "stream",
          "name": "stdout",
          "text": [
            "+--------------------+--------------------+----------+-----------+--------+--------------------+--------------------+-----------+------------+------+------+--------+----+-----------+------------+----------------+--------+-------+-------+-------------+\n",
            "|                  Id|                Name|Popularity|Duration_ms|Explicit|             Artists|           ArtistsId|ReleaseDate|Danceability|Energy|   Key|Loudness|Mode|Speechiness|Acousticness|Instrumentalness|Liveness|Valence|  Tempo|TimeSignature|\n",
            "+--------------------+--------------------+----------+-----------+--------+--------------------+--------------------+-----------+------------+------+------+--------+----+-----------+------------+----------------+--------+-------+-------+-------------+\n",
            "|1zPmz3rh854RXIho4...|\"Faust, Acte 3, S...|      null|          0|  217261|                   0|   ['Georges Thill']|       null|        null| 0.298|  null|     0.0|null|        1.0|       0.193|           0.816| 0.00729|  0.111| 0.0543|       76.279|\n",
            "|0kv2jK5ZMTLiPPKxm...|\"Music To Goethe'...|      null|          0|  524062|                   0|['Ludwig van Beet...|       null|        null| 0.289|  null|     5.0|null|        0.0|      0.0545|           0.985|   0.203|  0.143|  0.144|       78.416|\n",
            "|0F3HecwuDrikMzDck...|\"\"\"Jubel\"\" - Over...|      null|          0|  506893|                   0|['Carl Maria von ...|       null|        null| 0.253|  null|    10.0|null|        1.0|      0.0453|            0.98|   0.901|  0.222|  0.144|       70.658|\n",
            "|0h5gXRdMqSNE6Qvxi...|\"Symphony No. 6 i...|      null|          0|  220009|                   0|['Ludwig van Beet...|       null|        null| 0.222|  null|     5.0|null|        0.0|      0.0691|           0.938|   0.901| 0.0908|  0.151|       68.567|\n",
            "|0Tsn9PfXd72ag1EEB...|Thanks For The Bo...|         1|     187507|       0|   \"[\"\"Anita O'Day\"\"| 'Gene Krupa & Hi...|       null|        null|1932.0|  null|   0.523|   8|     -5.531|         1.0|           0.072|   0.961|0.00568| 0.0543|        0.783|\n",
            "|3s3F7o7HCd0IhP1fo...|\"I Want to Be Hap...|      null|       null|       0|              176573|                   0|       null|        null|1932.0|  null|   0.135|   2|    -14.984|         1.0|          0.0372|    0.87|    0.0|  0.136|        0.501|\n",
            "|5AZvNKWS9yPpXntKq...|\"\"\"Carmen Fantasie\"\"|      null|       null|       2|              570920|                   0|       null|        null|1934.0|  null|   0.193|   2|    -20.298|         1.0|          0.0457|   0.941|  0.433|  0.415|         0.33|\n",
            "|03tsNct4IPaITfjvL...|\"Strauss, R: Der ...|      null|       null|       0|              279067|                   0|       null|        null|1935.0|  null|   0.246|   2|    -14.976|         1.0|          0.0349|   0.941| 0.0968|  0.169|         0.11|\n",
            "|0JlRTyklBvY79onT0...|\"Verdi: Otello, A...|      null|       null|       0|              179387|                   0|       null|        null|1935.0|  null|   0.292|   9|    -12.052|         1.0|          0.0405|   0.948| 0.0024|  0.141|        0.459|\n",
            "|0lCjKk7TuRke5CgLA...|\"Wagner: Die Meis...|      null|       null|       0|              213053|                   0|       null|        null|1935.0|  null|   0.194|   4|    -18.289|         1.0|          0.0673|   0.948|0.00281| 0.0902|        0.173|\n",
            "|1TIcNyQ8iDqM96BCy...|\"Wagner: Die Meis...|      null|       null|    null|                   0|              347533|       null|        null|  null|  1935|   0.243|null|        0.0|      -12.81|             1.0|  0.0404|   0.95| 0.0842|        0.559|\n",
            "|5YrVZ6t53WPKtXaAd...|\"Wagner: Die Meis...|      null|       null|       0|              233827|                   0|       null|        null|1935.0|  null|   0.356|   0|    -12.676|         0.0|          0.0369|   0.968|  0.118|  0.733|        0.309|\n",
            "|01NuPyqOlzre2Ozxs...|      \"Libuše: \"\"Hoj|      null|       null|    null|  Šťáhlav na Radbuze|             Krasava|       null|        null|  null|     0|115573.0|   0|       null|        null|          1940.0|    0.35|  0.257|   11.0|       -16.98|\n",
            "|0yFWkFkhN5RFkciTL...|\"Libuše, Act IV, ...|      null|       null|    null|  Šťáhlav na Radbuze|             Krasava|       null|        null|  null|     0|138600.0|   0|       null|        null|          1940.0|   0.432|  0.279|    2.0|      -14.889|\n",
            "|0yvAexKigIDisv6XL...|\"Libuše, Act II, ...|      null|       null|    null|             Krasava|             Radmila|       null|        null|   0.0|150013|     0.0|null|       null|      1940.0|           0.341|   0.327|    7.0|-16.592|          1.0|\n",
            "|2SEGaosrnf7rpEtPA...|\"Libuše, Act III,...|      null|       null|    null|             Krasava|             Radmila|       null|        null|   0.0| 60507|     0.0|null|       null|      1940.0|           0.449|   0.315|    8.0|-15.779|          1.0|\n",
            "|2kT9dKUxXRLLQLESb...|\"Libuše: \"\"Bohové...|      null|       null|    null|             Krasava|             Radmila|       null|        null|   0.0|986987|     0.0|null|       null|      1940.0|           0.238|   0.618|    7.0|-15.744|          1.0|\n",
            "|3Adc3nnJRiDbLxp0m...|Thanks For The Bo...|        13|     187560|       0|   \"[\"\"Anita O'Day\"\"| 'Gene Krupa & Hi...|       null|        null|1941.0|  null|   0.506|   8|     -6.129|         1.0|          0.0559|   0.962| 0.0046| 0.0533|        0.766|\n",
            "|1k0zp2N1vcTk6afzV...|\"Symphonie sur un...|      null|          0|  380933|                   0|\"[\"\"Vincent d'Indy\"\"|       null|        null|  null|  1941|   0.219|null|        4.0|     -17.431|             1.0|  0.0374|  0.958|  0.796|       0.0826|\n",
            "|52ITNWNhNjE5u1Yx9...|\"Symphonie sur un...|         0|     461427|       0|\"[\"\"Vincent d'Indy\"\"|    'Pierre Monteux'|       null|        null|1941.0|  null|   0.369|   6|    -12.531|         1.0|          0.0314|   0.887|   0.88| 0.0722|         0.18|\n",
            "+--------------------+--------------------+----------+-----------+--------+--------------------+--------------------+-----------+------------+------+------+--------+----+-----------+------------+----------------+--------+-------+-------+-------------+\n",
            "only showing top 20 rows\n",
            "\n"
          ]
        }
      ]
    },
    {
      "cell_type": "markdown",
      "source": [
        "Filling null values"
      ],
      "metadata": {
        "id": "jE_ISP27St8r"
      }
    },
    {
      "cell_type": "code",
      "source": [
        "\n",
        "trackFrame.na.fill(\"Missing\").show()\n"
      ],
      "metadata": {
        "colab": {
          "base_uri": "https://localhost:8080/"
        },
        "id": "lOr5yakdS7Iw",
        "outputId": "628740cf-38a8-4610-e557-a4b4a4011c35"
      },
      "execution_count": null,
      "outputs": [
        {
          "output_type": "stream",
          "name": "stdout",
          "text": [
            "+--------------------+--------------------+----------+-----------+--------+-------------------+--------------------+-----------+------------+------+---+--------+----+-----------+------------+----------------+--------+-------+-------+-------------+\n",
            "|                  Id|                Name|Popularity|Duration_ms|Explicit|            Artists|           ArtistsId|ReleaseDate|Danceability|Energy|Key|Loudness|Mode|Speechiness|Acousticness|Instrumentalness|Liveness|Valence|  Tempo|TimeSignature|\n",
            "+--------------------+--------------------+----------+-----------+--------+-------------------+--------------------+-----------+------------+------+---+--------+----+-----------+------------+----------------+--------+-------+-------+-------------+\n",
            "|35iwgR4jXetI318WE...|               Carve|         6|     126903|       0|            ['Uli']|['45tIt06XoI0Iio4...| 1922-02-22|       0.645| 0.445|  0| -13.338|   1|      0.451|       0.674|           0.744|   0.151|  0.127|104.851|          3.0|\n",
            "|021ht4sdgPcrDgSk7...|Capítulo 2.16 - B...|         0|      98200|       0|['Fernando Pessoa']|['14jtPCOoNZwquk5...| 1922-06-01|       0.695| 0.263|  0| -22.136|   1|      0.957|       0.797|             0.0|   0.148|  0.655|102.009|          1.0|\n",
            "|07A5yehtSnoedViJA...|Vivo para Querert...|         0|     181640|       0|['Ignacio Corsini']|['5LiOoJbxVSAMkBS...| 1922-03-21|       0.434| 0.177|  1|  -21.18|   1|     0.0512|       0.994|          0.0218|   0.212|  0.457|130.418|          5.0|\n",
            "|08FmqUhxtyLTn6pAh...|El Prisionero - R...|         0|     176907|       0|['Ignacio Corsini']|['5LiOoJbxVSAMkBS...| 1922-03-21|       0.321|0.0946|  7| -27.961|   1|     0.0504|       0.995|           0.918|   0.104|  0.397| 169.98|          3.0|\n",
            "|08y9GfoqCWfOGsKdw...| Lady of the Evening|         0|     163080|       0|    ['Dick Haymes']|['3BiJGZsyX9sJchT...| 1922-01-01|       0.402| 0.158|  3|   -16.9|   0|      0.039|       0.989|            0.13|   0.311|  0.196| 103.22|          4.0|\n",
            "|0BRXJHRNGQ3W4v9fr...|           Ave Maria|         0|     178933|       0|    ['Dick Haymes']|['3BiJGZsyX9sJchT...| 1922-01-01|       0.227| 0.261|  5| -12.343|   1|     0.0382|       0.994|           0.247|  0.0977| 0.0539|118.891|          4.0|\n",
            "|0Dd9ImXtAtGwsmsAD...|      La Butte Rouge|         0|     134467|       0|  ['Francis Marty']|['2nuMRGzeJ5jJEKl...| 1922-01-01|        0.51| 0.355|  4| -12.833|   1|      0.124|       0.965|             0.0|   0.155|  0.727| 85.754|          5.0|\n",
            "|0IA0Hju8CAgYfV1hw...|             La Java|         0|     161427|       0|    ['Mistinguett']|['4AxgXfD7ISvJSTO...| 1922-01-01|       0.563| 0.184|  4| -13.757|   1|     0.0512|       0.993|         1.55E-5|   0.325|  0.654|133.088|          3.0|\n",
            "|0IgI1UCz84pYeVetn...|  Old Fashioned Girl|         0|     310073|       0|    ['Greg Fieler']|['5nWlsH5RDgFuRAi...| 1922-01-01|       0.488| 0.475|  0| -16.222|   0|     0.0399|        0.62|         0.00645|   0.107|  0.544|139.952|          4.0|\n",
            "|0JV4iqw2lSKJaHBQZ...|Martín Fierro - R...|         0|     181173|       0|['Ignacio Corsini']|['5LiOoJbxVSAMkBS...| 1922-03-29|       0.548|0.0391|  6| -23.228|   1|      0.153|       0.996|           0.933|   0.148|  0.612| 75.595|          3.0|\n",
            "|0OYGe21oScKJfanLy...|Capítulo 2.8 - Ba...|         0|      99100|       0|['Fernando Pessoa']|['14jtPCOoNZwquk5...| 1922-06-01|       0.676| 0.235| 11| -22.447|   0|       0.96|       0.794|             0.0|    0.21|  0.724| 96.777|          3.0|\n",
            "|0PE42H6tslQuyMMiG...|Capítulo 2.25 - B...|         0|     132700|       0|['Fernando Pessoa']|['14jtPCOoNZwquk5...| 1922-06-01|        0.75| 0.229|  2| -22.077|   1|      0.955|       0.578|             0.0|   0.314|  0.531|102.629|          3.0|\n",
            "|0PH9AACae1f957JAa...|            Lazy Boi|         0|     157333|       0|            ['Uli']|['45tIt06XoI0Iio4...| 1922-02-22|       0.298|  0.46|  1| -18.645|   1|      0.453|       0.521|           0.856|   0.436|  0.402| 87.921|          4.0|\n",
            "|0QiT0Oo5QdLXdFw6R...|Tu Verras Montmartre|         1|     186800|       0|   ['Lucien Boyer']|['4mSouLpNSEY1d7O...| 1922-01-01|       0.703|  0.28|  0|  -15.39|   1|      0.174|       0.995|         6.84E-5|   0.163|  0.897|127.531|          4.0|\n",
            "|0TWsNj5iSvbMTtbED...|Elle Prend L'boul...|         0|     172027|       0|    ['Félix Mayol']|['7DIlOK9L8d0IQ7X...| 1922-01-01|       0.709| 0.289|  2| -14.978|   1|       0.18|       0.967|             0.0|   0.119|   0.84|107.515|          4.0|\n",
            "|0cC9CYjLRIzwchQ42...|Capítulo 1.23 - B...|         0|      96600|       0|['Fernando Pessoa']|['14jtPCOoNZwquk5...| 1922-06-01|       0.687| 0.198|  4| -24.264|   0|      0.962|       0.754|             0.0|   0.197|  0.478| 78.453|          1.0|\n",
            "|0eb1PfHxT6HnXvvdU...|Capítulo 1.18 - B...|         0|     103200|       0|['Fernando Pessoa']|['14jtPCOoNZwquk5...| 1922-06-01|         0.8| 0.171|  8| -24.384|   1|      0.953|        0.67|             0.0|   0.123|  0.693| 59.613|          3.0|\n",
            "|0grXU6GKVNCVMJbse...|Capítulo 1.10 - B...|         0|      95800|       0|['Fernando Pessoa']|['14jtPCOoNZwquk5...| 1922-06-01|         0.7| 0.208|  2| -23.874|   1|      0.956|       0.691|             0.0|   0.441|  0.613| 85.739|          1.0|\n",
            "|0kCB1bDVBC8gWCFcn...|  Ca C'est Une Chose|         0|     188000|       0| ['Victor Boucher']|['7vVR02JJYvsEAEP...| 1922-01-01|       0.352| 0.334|  5| -13.038|   1|     0.0594|       0.996|         0.00746|    0.36|  0.414| 76.403|          4.0|\n",
            "|0l3BQsVJ7F76wlN5Q...|El Vendaval - Rem...|         0|     153533|       0|['Ignacio Corsini']|['5LiOoJbxVSAMkBS...| 1922-03-21|        0.37| 0.372|  2| -17.138|   1|     0.0865|       0.985|         6.81E-4|   0.929|  0.753|159.669|          4.0|\n",
            "+--------------------+--------------------+----------+-----------+--------+-------------------+--------------------+-----------+------------+------+---+--------+----+-----------+------------+----------------+--------+-------+-------+-------------+\n",
            "only showing top 20 rows\n",
            "\n"
          ]
        }
      ]
    },
    {
      "cell_type": "markdown",
      "source": [
        "## Using pyspark to show the data"
      ],
      "metadata": {
        "id": "S0j_-QX_vG5O"
      }
    },
    {
      "cell_type": "markdown",
      "source": [
        "Ordering tracks by ther popularity "
      ],
      "metadata": {
        "id": "M2Cmeg4XUWv6"
      }
    },
    {
      "cell_type": "code",
      "source": [
        "trackFrame.groupBy(\"Name\").agg(avg(\"Popularity\").alias(\"Popularity\")).sort(col(\"Popularity\").desc()).show()"
      ],
      "metadata": {
        "colab": {
          "base_uri": "https://localhost:8080/"
        },
        "id": "NSH2Q8NyG7BZ",
        "outputId": "e43e74bf-c281-47a7-ea99-2e81ae605b0d"
      },
      "execution_count": null,
      "outputs": [
        {
          "output_type": "stream",
          "name": "stdout",
          "text": [
            "+--------------------+----------+\n",
            "|                Name|Popularity|\n",
            "+--------------------+----------+\n",
            "|     drivers license|      99.0|\n",
            "|     Blinding Lights|      96.0|\n",
            "|Friday (feat. Muf...|      94.0|\n",
            "|  LA NOCHE DE ANOCHE|      93.0|\n",
            "|           Good Days|      93.0|\n",
            "|  Goosebumps - Remix|      92.0|\n",
            "|Wellerman - Sea S...|      92.0|\n",
            "|        Hecha Pa' Mi|      92.0|\n",
            "|Paradise (feat. D...|      92.0|\n",
            "|Ella No Es Tuya -...|      92.0|\n",
            "|  you broke me first|      91.0|\n",
            "|         What’s Next|      91.0|\n",
            "|              DÁKITI|      91.0|\n",
            "|ROCKSTAR (feat. R...|      91.0|\n",
            "|      Therefore I Am|      90.0|\n",
            "|Baila Conmigo (wi...|      90.0|\n",
            "|WAP (feat. Megan ...|      90.0|\n",
            "|Best Friend (feat...|      90.0|\n",
            "|Beautiful Mistake...|      90.0|\n",
            "|Wants and Needs (...|      89.0|\n",
            "+--------------------+----------+\n",
            "only showing top 20 rows\n",
            "\n"
          ]
        }
      ]
    },
    {
      "cell_type": "markdown",
      "source": [
        "Top 5 artist has the most song in the database"
      ],
      "metadata": {
        "id": "F62LjHEZUmAf"
      }
    },
    {
      "cell_type": "code",
      "source": [
        "trackFrame.groupBy(\"Artists\").count().sort(col(\"count\").desc()).show(5)"
      ],
      "metadata": {
        "colab": {
          "base_uri": "https://localhost:8080/"
        },
        "id": "8wSAKF6FUpId",
        "outputId": "f7dc9600-3286-4c66-fa7e-f23de3d0d2bb"
      },
      "execution_count": null,
      "outputs": [
        {
          "output_type": "stream",
          "name": "stdout",
          "text": [
            "+--------------------+-----+\n",
            "|             Artists|count|\n",
            "+--------------------+-----+\n",
            "|    ['Die drei ???']| 3856|\n",
            "|['TKKG Retro-Arch...| 2006|\n",
            "|['Benjamin Blümch...| 1503|\n",
            "| ['Bibi Blocksberg']| 1472|\n",
            "| ['Lata Mangeshkar']| 1373|\n",
            "+--------------------+-----+\n",
            "only showing top 5 rows\n",
            "\n"
          ]
        }
      ]
    },
    {
      "cell_type": "markdown",
      "source": [
        "Most danceable songs after 1990"
      ],
      "metadata": {
        "id": "a-gMAnR1VWEE"
      }
    },
    {
      "cell_type": "code",
      "source": [
        "newdf = trackFrame.select(trackFrame.Name, year(trackFrame.ReleaseDate).alias('year'), trackFrame.Danceability)\n",
        "\n",
        "newdf.filter(col(\"year\") > 1990).select(['name','year','Danceability']).orderBy(col(\"Danceability\").desc()).show()\n"
      ],
      "metadata": {
        "id": "yZ3DSc0DWgPY",
        "colab": {
          "base_uri": "https://localhost:8080/"
        },
        "outputId": "d809124d-5bd2-4a69-a2d5-1afaa692ea44"
      },
      "execution_count": null,
      "outputs": [
        {
          "output_type": "stream",
          "name": "stdout",
          "text": [
            "+--------------------+----+------------+\n",
            "|                name|year|Danceability|\n",
            "+--------------------+----+------------+\n",
            "|    Puisorul cafeniu|2002|       0.991|\n",
            "|           Tío Mario|1998|       0.988|\n",
            "|Who Loves The Sun...|2011|       0.988|\n",
            "|Cool - Leonardo L...|2021|       0.987|\n",
            "|     New Year (2021)|2021|       0.987|\n",
            "|             Go Girl|2012|       0.986|\n",
            "|             Go Girl|2012|       0.986|\n",
            "|               BABÁM|2020|       0.986|\n",
            "|Funky Cold Medina...|2010|       0.985|\n",
            "|Who Loves The Sun...|2011|       0.985|\n",
            "|Wag Mo Na Sanang ...|2008|       0.985|\n",
            "|O mama mama - Rem...|2014|       0.985|\n",
            "|      Kotek Klopotek|2002|       0.984|\n",
            "|          Sinabmarin|2002|       0.984|\n",
            "|          НА МНЕ КЭШ|2018|       0.984|\n",
            "|Tchibum da Cabeça...|2012|       0.984|\n",
            "|          Transparan|2007|       0.983|\n",
            "|          Stafalagið|1998|       0.983|\n",
            "|Dank Fra Den Øst ...|2016|       0.982|\n",
            "|             Bobocii|2003|       0.982|\n",
            "+--------------------+----+------------+\n",
            "only showing top 20 rows\n",
            "\n"
          ]
        }
      ]
    },
    {
      "cell_type": "markdown",
      "source": [
        "Finding the Average of two columns to find which song is the most useable song in a dancing club\n",
        "\n"
      ],
      "metadata": {
        "id": "Q_GsyQRPDzLn"
      }
    },
    {
      "cell_type": "code",
      "source": [
        "trackFrame.select(\"Name\",((col(\"Danceability\") + col(\"Loudness\"))/2).alias(\"Average\")).sort(col(\"Average\").desc()).show()"
      ],
      "metadata": {
        "colab": {
          "base_uri": "https://localhost:8080/"
        },
        "id": "Bwi1PXdXD3FP",
        "outputId": "cb405c0b-4fc9-4919-f561-8db8c188fe45"
      },
      "execution_count": null,
      "outputs": [
        {
          "output_type": "stream",
          "name": "stdout",
          "text": [
            "+--------------------+-------+\n",
            "|                Name|Average|\n",
            "+--------------------+-------+\n",
            "|  All You Can (2010)| 1011.5|\n",
            "| Aahun Aahun (Remix)| 1010.0|\n",
            "|           Bang Bang| 1009.5|\n",
            "|Me Puedo Matar (f...| 1009.0|\n",
            "|    Palabras Tristes| 1009.0|\n",
            "|Me Estas Tentando...| 1008.5|\n",
            "|J'aimerais trop (...| 1008.5|\n",
            "|   Poso M..... Eisai| 1008.0|\n",
            "|Love Can't Turn A...| 1007.5|\n",
            "|    I, Refuse (2013)| 1007.0|\n",
            "|              Try Me| 1007.0|\n",
            "|         Clandestino| 1007.0|\n",
            "|            Na De Na| 1007.0|\n",
            "|Ja Soldat - Dunke...| 1006.0|\n",
            "|Me Voy (feat. Rom...| 1006.0|\n",
            "|Always On My Mind...| 1006.0|\n",
            "|               Karta| 1005.5|\n",
            "|\"Matthäus-Passion...| 1005.0|\n",
            "|To Tragoudi Mou -...| 1005.0|\n",
            "|Wavin' Flag - Cel...| 1004.5|\n",
            "+--------------------+-------+\n",
            "only showing top 20 rows\n",
            "\n"
          ]
        }
      ]
    }
  ]
}